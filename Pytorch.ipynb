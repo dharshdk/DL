{
  "nbformat": 4,
  "nbformat_minor": 0,
  "metadata": {
    "colab": {
      "provenance": [],
      "authorship_tag": "ABX9TyPVgJKH5vkQ9TgY7N00hs1S",
      "include_colab_link": true
    },
    "kernelspec": {
      "name": "python3",
      "display_name": "Python 3"
    },
    "language_info": {
      "name": "python"
    }
  },
  "cells": [
    {
      "cell_type": "markdown",
      "metadata": {
        "id": "view-in-github",
        "colab_type": "text"
      },
      "source": [
        "<a href=\"https://colab.research.google.com/github/dharshdk/DL/blob/main/Pytorch.ipynb\" target=\"_parent\"><img src=\"https://colab.research.google.com/assets/colab-badge.svg\" alt=\"Open In Colab\"/></a>"
      ]
    },
    {
      "cell_type": "code",
      "execution_count": null,
      "metadata": {
        "id": "rVjIurWLm3BQ"
      },
      "outputs": [],
      "source": [
        "import torch\n",
        "import torchvision.datasets as datasets\n",
        "import torchvision.transforms as transforms\n",
        "import torch.nn as nn\n",
        "import torch.optim as optim"
      ]
    },
    {
      "cell_type": "code",
      "source": [
        "transform =transforms.Compose([transforms.ToTensor(),transforms.Normalize((0.1307,),(0.3081,))])"
      ],
      "metadata": {
        "id": "Qh0Sx_9NoVOi"
      },
      "execution_count": null,
      "outputs": []
    },
    {
      "cell_type": "markdown",
      "source": [
        "**Normalization**- MinMaxscaler()....range will [0,1]\n",
        "\n",
        "**Standardization**-StandarScaler()...range will be in certain range\n",
        "\n"
      ],
      "metadata": {
        "id": "_EEDP0uupgi6"
      }
    },
    {
      "cell_type": "code",
      "source": [
        "train_dataset=datasets.MNIST('data',train=True,download=True,transform=transform)"
      ],
      "metadata": {
        "colab": {
          "base_uri": "https://localhost:8080/"
        },
        "id": "oEhxUeavowOl",
        "outputId": "5a8ab96c-1e10-461f-c927-3910387af0b0"
      },
      "execution_count": null,
      "outputs": [
        {
          "output_type": "stream",
          "name": "stdout",
          "text": [
            "Downloading http://yann.lecun.com/exdb/mnist/train-images-idx3-ubyte.gz\n",
            "Downloading http://yann.lecun.com/exdb/mnist/train-images-idx3-ubyte.gz to data/MNIST/raw/train-images-idx3-ubyte.gz\n"
          ]
        },
        {
          "output_type": "stream",
          "name": "stderr",
          "text": [
            "100%|██████████| 9912422/9912422 [00:00<00:00, 84087994.57it/s]\n"
          ]
        },
        {
          "output_type": "stream",
          "name": "stdout",
          "text": [
            "Extracting data/MNIST/raw/train-images-idx3-ubyte.gz to data/MNIST/raw\n",
            "\n",
            "Downloading http://yann.lecun.com/exdb/mnist/train-labels-idx1-ubyte.gz\n",
            "Downloading http://yann.lecun.com/exdb/mnist/train-labels-idx1-ubyte.gz to data/MNIST/raw/train-labels-idx1-ubyte.gz\n"
          ]
        },
        {
          "output_type": "stream",
          "name": "stderr",
          "text": [
            "100%|██████████| 28881/28881 [00:00<00:00, 16031722.32it/s]"
          ]
        },
        {
          "output_type": "stream",
          "name": "stdout",
          "text": [
            "Extracting data/MNIST/raw/train-labels-idx1-ubyte.gz to data/MNIST/raw\n",
            "\n",
            "Downloading http://yann.lecun.com/exdb/mnist/t10k-images-idx3-ubyte.gz\n",
            "Downloading http://yann.lecun.com/exdb/mnist/t10k-images-idx3-ubyte.gz to data/MNIST/raw/t10k-images-idx3-ubyte.gz\n"
          ]
        },
        {
          "output_type": "stream",
          "name": "stderr",
          "text": [
            "\n",
            "100%|██████████| 1648877/1648877 [00:00<00:00, 20937958.36it/s]\n"
          ]
        },
        {
          "output_type": "stream",
          "name": "stdout",
          "text": [
            "Extracting data/MNIST/raw/t10k-images-idx3-ubyte.gz to data/MNIST/raw\n",
            "\n",
            "Downloading http://yann.lecun.com/exdb/mnist/t10k-labels-idx1-ubyte.gz\n",
            "Downloading http://yann.lecun.com/exdb/mnist/t10k-labels-idx1-ubyte.gz to data/MNIST/raw/t10k-labels-idx1-ubyte.gz\n"
          ]
        },
        {
          "output_type": "stream",
          "name": "stderr",
          "text": [
            "100%|██████████| 4542/4542 [00:00<00:00, 7453258.52it/s]\n"
          ]
        },
        {
          "output_type": "stream",
          "name": "stdout",
          "text": [
            "Extracting data/MNIST/raw/t10k-labels-idx1-ubyte.gz to data/MNIST/raw\n",
            "\n"
          ]
        }
      ]
    },
    {
      "cell_type": "markdown",
      "source": [
        "unlike in tensorflow...here in pytorch dataset should should be imported and loaded"
      ],
      "metadata": {
        "id": "K6_SHGOHqq-7"
      }
    },
    {
      "cell_type": "code",
      "source": [
        "train_loader=torch.utils.data.DataLoader(train_dataset,batch_size=64,shuffle=True)"
      ],
      "metadata": {
        "id": "iJ5ylzfjqXq6"
      },
      "execution_count": null,
      "outputs": []
    },
    {
      "cell_type": "code",
      "source": [
        "class Neural(nn.Module):\n",
        "  def __init__(self):\n",
        "    super(Neural,self).__init__()\n",
        "    self.fc1=nn.Linear(28*28,128)\n",
        "    self.fc2=nn.Linear(128,10)\n",
        "  def forward(self,x):\n",
        "    x=x.view(-1,28*28)\n",
        "    x=torch.relu(self.fc1(x))\n",
        "    x=self.fc2(x)\n",
        "    return x\n",
        "net=Neural()"
      ],
      "metadata": {
        "id": "g33LFLGAqp5K"
      },
      "execution_count": null,
      "outputs": []
    },
    {
      "cell_type": "code",
      "source": [
        "criterion=nn.CrossEntropyLoss()\n",
        "optimizer=optim.SGD(net.parameters(),lr=0.01,momentum=0.5)\n"
      ],
      "metadata": {
        "id": "ncUnhU_0zyGI"
      },
      "execution_count": null,
      "outputs": []
    },
    {
      "cell_type": "code",
      "source": [
        "num_epochs=10\n",
        "for epoch in range(num_epochs):\n",
        "  for batch_idx,(data,target) in enumerate (train_loader):\n",
        "    optimizer.zero_grad()\n",
        "    output=net(data)\n",
        "    loss =criterion(output,target)\n",
        "    loss.backward()\n",
        "    optimizer.step()\n",
        "    if batch_idx % 100==0:\n",
        "      print('Train Epoch: {} [{}/{} ({:.0f}%)]\\tLoss: {:.6f}'.format(\n",
        "                epoch, batch_idx * len(data), len(train_loader.dataset),\n",
        "                100. * batch_idx / len(train_loader), loss.item()))"
      ],
      "metadata": {
        "colab": {
          "base_uri": "https://localhost:8080/"
        },
        "id": "lCnLvFpqz5rk",
        "outputId": "2e71f787-c5b7-4f36-9bdd-861fd2c68178"
      },
      "execution_count": null,
      "outputs": [
        {
          "output_type": "stream",
          "name": "stdout",
          "text": [
            "Train Epoch: 0 [0/60000 (0%)]\tLoss: 2.347801\n",
            "Train Epoch: 0 [6400/60000 (11%)]\tLoss: 0.596699\n",
            "Train Epoch: 0 [12800/60000 (21%)]\tLoss: 0.468342\n",
            "Train Epoch: 0 [19200/60000 (32%)]\tLoss: 0.484626\n",
            "Train Epoch: 0 [25600/60000 (43%)]\tLoss: 0.502844\n",
            "Train Epoch: 0 [32000/60000 (53%)]\tLoss: 0.325483\n",
            "Train Epoch: 0 [38400/60000 (64%)]\tLoss: 0.195801\n",
            "Train Epoch: 0 [44800/60000 (75%)]\tLoss: 0.386577\n",
            "Train Epoch: 0 [51200/60000 (85%)]\tLoss: 0.367347\n",
            "Train Epoch: 0 [57600/60000 (96%)]\tLoss: 0.209548\n",
            "Train Epoch: 1 [0/60000 (0%)]\tLoss: 0.254513\n",
            "Train Epoch: 1 [6400/60000 (11%)]\tLoss: 0.121192\n",
            "Train Epoch: 1 [12800/60000 (21%)]\tLoss: 0.285880\n",
            "Train Epoch: 1 [19200/60000 (32%)]\tLoss: 0.319628\n",
            "Train Epoch: 1 [25600/60000 (43%)]\tLoss: 0.151934\n",
            "Train Epoch: 1 [32000/60000 (53%)]\tLoss: 0.260049\n",
            "Train Epoch: 1 [38400/60000 (64%)]\tLoss: 0.338814\n",
            "Train Epoch: 1 [44800/60000 (75%)]\tLoss: 0.102712\n",
            "Train Epoch: 1 [51200/60000 (85%)]\tLoss: 0.165366\n",
            "Train Epoch: 1 [57600/60000 (96%)]\tLoss: 0.208196\n",
            "Train Epoch: 2 [0/60000 (0%)]\tLoss: 0.138409\n",
            "Train Epoch: 2 [6400/60000 (11%)]\tLoss: 0.101188\n",
            "Train Epoch: 2 [12800/60000 (21%)]\tLoss: 0.330694\n",
            "Train Epoch: 2 [19200/60000 (32%)]\tLoss: 0.163971\n",
            "Train Epoch: 2 [25600/60000 (43%)]\tLoss: 0.045984\n",
            "Train Epoch: 2 [32000/60000 (53%)]\tLoss: 0.149554\n",
            "Train Epoch: 2 [38400/60000 (64%)]\tLoss: 0.173978\n",
            "Train Epoch: 2 [44800/60000 (75%)]\tLoss: 0.151902\n",
            "Train Epoch: 2 [51200/60000 (85%)]\tLoss: 0.187195\n",
            "Train Epoch: 2 [57600/60000 (96%)]\tLoss: 0.158727\n",
            "Train Epoch: 3 [0/60000 (0%)]\tLoss: 0.144130\n",
            "Train Epoch: 3 [6400/60000 (11%)]\tLoss: 0.104585\n",
            "Train Epoch: 3 [12800/60000 (21%)]\tLoss: 0.193986\n",
            "Train Epoch: 3 [19200/60000 (32%)]\tLoss: 0.209551\n",
            "Train Epoch: 3 [25600/60000 (43%)]\tLoss: 0.232499\n",
            "Train Epoch: 3 [32000/60000 (53%)]\tLoss: 0.100548\n",
            "Train Epoch: 3 [38400/60000 (64%)]\tLoss: 0.186052\n",
            "Train Epoch: 3 [44800/60000 (75%)]\tLoss: 0.076745\n",
            "Train Epoch: 3 [51200/60000 (85%)]\tLoss: 0.206082\n",
            "Train Epoch: 3 [57600/60000 (96%)]\tLoss: 0.161270\n",
            "Train Epoch: 4 [0/60000 (0%)]\tLoss: 0.183284\n",
            "Train Epoch: 4 [6400/60000 (11%)]\tLoss: 0.107618\n",
            "Train Epoch: 4 [12800/60000 (21%)]\tLoss: 0.125294\n",
            "Train Epoch: 4 [19200/60000 (32%)]\tLoss: 0.078042\n",
            "Train Epoch: 4 [25600/60000 (43%)]\tLoss: 0.201031\n",
            "Train Epoch: 4 [32000/60000 (53%)]\tLoss: 0.045480\n",
            "Train Epoch: 4 [38400/60000 (64%)]\tLoss: 0.147891\n",
            "Train Epoch: 4 [44800/60000 (75%)]\tLoss: 0.099485\n",
            "Train Epoch: 4 [51200/60000 (85%)]\tLoss: 0.205822\n",
            "Train Epoch: 4 [57600/60000 (96%)]\tLoss: 0.106667\n",
            "Train Epoch: 5 [0/60000 (0%)]\tLoss: 0.109910\n",
            "Train Epoch: 5 [6400/60000 (11%)]\tLoss: 0.152510\n",
            "Train Epoch: 5 [12800/60000 (21%)]\tLoss: 0.224004\n",
            "Train Epoch: 5 [19200/60000 (32%)]\tLoss: 0.051166\n",
            "Train Epoch: 5 [25600/60000 (43%)]\tLoss: 0.052924\n",
            "Train Epoch: 5 [32000/60000 (53%)]\tLoss: 0.167210\n",
            "Train Epoch: 5 [38400/60000 (64%)]\tLoss: 0.120517\n",
            "Train Epoch: 5 [44800/60000 (75%)]\tLoss: 0.185359\n",
            "Train Epoch: 5 [51200/60000 (85%)]\tLoss: 0.061231\n",
            "Train Epoch: 5 [57600/60000 (96%)]\tLoss: 0.056614\n",
            "Train Epoch: 6 [0/60000 (0%)]\tLoss: 0.065220\n",
            "Train Epoch: 6 [6400/60000 (11%)]\tLoss: 0.236002\n",
            "Train Epoch: 6 [12800/60000 (21%)]\tLoss: 0.184307\n",
            "Train Epoch: 6 [19200/60000 (32%)]\tLoss: 0.061485\n",
            "Train Epoch: 6 [25600/60000 (43%)]\tLoss: 0.092662\n",
            "Train Epoch: 6 [32000/60000 (53%)]\tLoss: 0.101223\n",
            "Train Epoch: 6 [38400/60000 (64%)]\tLoss: 0.141992\n",
            "Train Epoch: 6 [44800/60000 (75%)]\tLoss: 0.165599\n",
            "Train Epoch: 6 [51200/60000 (85%)]\tLoss: 0.033570\n",
            "Train Epoch: 6 [57600/60000 (96%)]\tLoss: 0.192446\n",
            "Train Epoch: 7 [0/60000 (0%)]\tLoss: 0.017142\n",
            "Train Epoch: 7 [6400/60000 (11%)]\tLoss: 0.079084\n",
            "Train Epoch: 7 [12800/60000 (21%)]\tLoss: 0.115159\n",
            "Train Epoch: 7 [19200/60000 (32%)]\tLoss: 0.069506\n",
            "Train Epoch: 7 [25600/60000 (43%)]\tLoss: 0.106158\n",
            "Train Epoch: 7 [32000/60000 (53%)]\tLoss: 0.076827\n",
            "Train Epoch: 7 [38400/60000 (64%)]\tLoss: 0.061799\n",
            "Train Epoch: 7 [44800/60000 (75%)]\tLoss: 0.096758\n",
            "Train Epoch: 7 [51200/60000 (85%)]\tLoss: 0.024257\n",
            "Train Epoch: 7 [57600/60000 (96%)]\tLoss: 0.048198\n",
            "Train Epoch: 8 [0/60000 (0%)]\tLoss: 0.131668\n",
            "Train Epoch: 8 [6400/60000 (11%)]\tLoss: 0.040520\n",
            "Train Epoch: 8 [12800/60000 (21%)]\tLoss: 0.101968\n",
            "Train Epoch: 8 [19200/60000 (32%)]\tLoss: 0.104397\n",
            "Train Epoch: 8 [25600/60000 (43%)]\tLoss: 0.136020\n",
            "Train Epoch: 8 [32000/60000 (53%)]\tLoss: 0.082916\n",
            "Train Epoch: 8 [38400/60000 (64%)]\tLoss: 0.109036\n",
            "Train Epoch: 8 [44800/60000 (75%)]\tLoss: 0.058555\n",
            "Train Epoch: 8 [51200/60000 (85%)]\tLoss: 0.086200\n",
            "Train Epoch: 8 [57600/60000 (96%)]\tLoss: 0.040542\n",
            "Train Epoch: 9 [0/60000 (0%)]\tLoss: 0.066654\n",
            "Train Epoch: 9 [6400/60000 (11%)]\tLoss: 0.023828\n",
            "Train Epoch: 9 [12800/60000 (21%)]\tLoss: 0.076181\n",
            "Train Epoch: 9 [19200/60000 (32%)]\tLoss: 0.070442\n",
            "Train Epoch: 9 [25600/60000 (43%)]\tLoss: 0.054615\n",
            "Train Epoch: 9 [32000/60000 (53%)]\tLoss: 0.038787\n",
            "Train Epoch: 9 [38400/60000 (64%)]\tLoss: 0.057562\n",
            "Train Epoch: 9 [44800/60000 (75%)]\tLoss: 0.147185\n",
            "Train Epoch: 9 [51200/60000 (85%)]\tLoss: 0.092167\n",
            "Train Epoch: 9 [57600/60000 (96%)]\tLoss: 0.074272\n"
          ]
        }
      ]
    },
    {
      "cell_type": "code",
      "source": [
        "test_dataset=datasets.MNIST('data',train=False,download=True,transform=transform)\n",
        "test_loader=torch.utils.data.DataLoader(test_dataset,batch_size=1000,shuffle=True)\n",
        "correct=0\n",
        "total=0\n",
        "with torch.no_grad():\n",
        "  output=net(data)\n",
        "  _,predicted=torch.max(output.data,1)\n",
        "  total+=target.size(0)\n",
        "  correct+=(predicted==target).sum().item()"
      ],
      "metadata": {
        "id": "-dZXToB8z9uK"
      },
      "execution_count": null,
      "outputs": []
    },
    {
      "cell_type": "code",
      "source": [
        "print('Accuracy of the network on the 10000 test images: %d %%' % (100 * correct / total))"
      ],
      "metadata": {
        "colab": {
          "base_uri": "https://localhost:8080/"
        },
        "id": "aZoIBtd30IWH",
        "outputId": "8a25c4cd-a9c3-41b7-c2a4-da4f92c296cb"
      },
      "execution_count": null,
      "outputs": [
        {
          "output_type": "stream",
          "name": "stdout",
          "text": [
            "Accuracy of the network on the 10000 test images: 96 %\n"
          ]
        }
      ]
    },
    {
      "cell_type": "code",
      "source": [],
      "metadata": {
        "id": "lHw6trUY0pcx"
      },
      "execution_count": null,
      "outputs": []
    }
  ]
}