{
  "nbformat": 4,
  "nbformat_minor": 0,
  "metadata": {
    "colab": {
      "provenance": [],
      "include_colab_link": true
    },
    "kernelspec": {
      "name": "python3",
      "display_name": "Python 3"
    },
    "language_info": {
      "name": "python"
    }
  },
  "cells": [
    {
      "cell_type": "markdown",
      "metadata": {
        "id": "view-in-github",
        "colab_type": "text"
      },
      "source": [
        "<a href=\"https://colab.research.google.com/github/dharshdk/DL/blob/main/CNN_Tensorflow.ipynb\" target=\"_parent\"><img src=\"https://colab.research.google.com/assets/colab-badge.svg\" alt=\"Open In Colab\"/></a>"
      ]
    },
    {
      "cell_type": "code",
      "execution_count": null,
      "metadata": {
        "colab": {
          "base_uri": "https://localhost:8080/"
        },
        "id": "LqQzswrFbkbz",
        "outputId": "d2277468-6891-4296-c76a-7c960e8ba5e1"
      },
      "outputs": [
        {
          "output_type": "stream",
          "name": "stdout",
          "text": [
            "Downloading data from https://storage.googleapis.com/tensorflow/tf-keras-datasets/train-labels-idx1-ubyte.gz\n",
            "29515/29515 [==============================] - 0s 0us/step\n",
            "Downloading data from https://storage.googleapis.com/tensorflow/tf-keras-datasets/train-images-idx3-ubyte.gz\n",
            "26421880/26421880 [==============================] - 0s 0us/step\n",
            "Downloading data from https://storage.googleapis.com/tensorflow/tf-keras-datasets/t10k-labels-idx1-ubyte.gz\n",
            "5148/5148 [==============================] - 0s 0us/step\n",
            "Downloading data from https://storage.googleapis.com/tensorflow/tf-keras-datasets/t10k-images-idx3-ubyte.gz\n",
            "4422102/4422102 [==============================] - 0s 0us/step\n"
          ]
        }
      ],
      "source": [
        "import tensorflow as tf\n",
        "from tensorflow.keras import layers, models\n",
        "from tensorflow.keras.datasets import fashion_mnist\n",
        "from tensorflow.keras.utils import to_categorical\n",
        "\n",
        "# Load and preprocess the Fashion MNIST dataset\n",
        "(train_images, train_labels), (test_images, test_labels) = fashion_mnist.load_data()"
      ]
    },
    {
      "cell_type": "code",
      "source": [
        "# Normalize pixel values to be between 0 and 1\n",
        "train_images, test_images = train_images / 255.0, test_images / 255.0\n"
      ],
      "metadata": {
        "id": "rx7P7xJUb4bl"
      },
      "execution_count": null,
      "outputs": []
    },
    {
      "cell_type": "code",
      "source": [
        "# Add a channel dimension to the images (required for convolutional layers)\n",
        "train_images = train_images.reshape((60000, 28, 28, 1))\n",
        "test_images = test_images.reshape((10000, 28, 28, 1))\n",
        "\n",
        "# Convert labels to one-hot encoding\n",
        "train_labels = to_categorical(train_labels)\n",
        "test_labels = to_categorical(test_labels)\n"
      ],
      "metadata": {
        "id": "wSPkucFgb8WT"
      },
      "execution_count": null,
      "outputs": []
    },
    {
      "cell_type": "code",
      "source": [
        "\n",
        "# Build the CNN model\n",
        "model = models.Sequential()\n",
        "\n",
        "# Convolutional layers\n",
        "model.add(layers.Conv2D(32, (3, 3), activation='relu', input_shape=(28, 28, 1)))\n",
        "model.add(layers.MaxPooling2D((2, 2)))\n",
        "model.add(layers.Conv2D(64, (3, 3), activation='relu'))\n",
        "model.add(layers.MaxPooling2D((2, 2)))\n",
        "model.add(layers.Conv2D(64, (3, 3), activation='relu'))\n",
        "\n"
      ],
      "metadata": {
        "id": "sSL42k3RcA7d"
      },
      "execution_count": null,
      "outputs": []
    },
    {
      "cell_type": "code",
      "source": [
        "# Dense layers\n",
        "model.add(layers.Flatten())\n",
        "model.add(layers.Dense(64, activation='relu'))\n",
        "model.add(layers.Dense(10, activation='softmax'))  # 10 output classes for Fashion MNIST\n",
        "\n",
        "# Compile the model\n",
        "model.compile(optimizer='adam',\n",
        "              loss='categorical_crossentropy',\n",
        "              metrics=['accuracy'])\n",
        "\n",
        "# Train the model\n",
        "model.fit(train_images, train_labels, epochs=10, validation_data=(test_images, test_labels))\n",
        "+"
      ],
      "metadata": {
        "colab": {
          "base_uri": "https://localhost:8080/"
        },
        "id": "YvU8X4v7cKDe",
        "outputId": "1ca18bc8-811b-4c9f-8114-c097a949a6c1"
      },
      "execution_count": null,
      "outputs": [
        {
          "output_type": "stream",
          "name": "stdout",
          "text": [
            "Epoch 1/10\n",
            "1875/1875 [==============================] - 60s 31ms/step - loss: 0.5057 - accuracy: 0.8115 - val_loss: 0.3938 - val_accuracy: 0.8466\n",
            "Epoch 2/10\n",
            "1875/1875 [==============================] - 58s 31ms/step - loss: 0.3256 - accuracy: 0.8814 - val_loss: 0.3169 - val_accuracy: 0.8854\n",
            "Epoch 3/10\n",
            "1875/1875 [==============================] - 57s 30ms/step - loss: 0.2778 - accuracy: 0.8972 - val_loss: 0.2983 - val_accuracy: 0.8870\n",
            "Epoch 4/10\n",
            "1875/1875 [==============================] - 58s 31ms/step - loss: 0.2467 - accuracy: 0.9087 - val_loss: 0.2841 - val_accuracy: 0.8966\n",
            "Epoch 5/10\n",
            "1875/1875 [==============================] - 56s 30ms/step - loss: 0.2217 - accuracy: 0.9182 - val_loss: 0.2696 - val_accuracy: 0.9034\n",
            "Epoch 6/10\n",
            "1875/1875 [==============================] - 56s 30ms/step - loss: 0.2031 - accuracy: 0.9242 - val_loss: 0.2581 - val_accuracy: 0.9061\n",
            "Epoch 7/10\n",
            "1875/1875 [==============================] - 59s 31ms/step - loss: 0.1829 - accuracy: 0.9311 - val_loss: 0.2698 - val_accuracy: 0.9054\n",
            "Epoch 8/10\n",
            "1875/1875 [==============================] - 62s 33ms/step - loss: 0.1694 - accuracy: 0.9362 - val_loss: 0.2591 - val_accuracy: 0.9083\n",
            "Epoch 9/10\n",
            "1875/1875 [==============================] - 58s 31ms/step - loss: 0.1543 - accuracy: 0.9416 - val_loss: 0.2612 - val_accuracy: 0.9129\n",
            "Epoch 10/10\n",
            "1875/1875 [==============================] - 57s 31ms/step - loss: 0.1422 - accuracy: 0.9476 - val_loss: 0.2881 - val_accuracy: 0.9080\n"
          ]
        },
        {
          "output_type": "execute_result",
          "data": {
            "text/plain": [
              "<keras.src.callbacks.History at 0x7f93d97621a0>"
            ]
          },
          "metadata": {},
          "execution_count": 5
        }
      ]
    }
  ]
}